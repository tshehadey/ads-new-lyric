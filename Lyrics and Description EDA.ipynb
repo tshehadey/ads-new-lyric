{
 "cells": [
  {
   "cell_type": "markdown",
   "id": "7f79baf9",
   "metadata": {},
   "source": [
    "# ADS 509 Assignment 2.1: Tokenization, Normalization, Descriptive Statistics \n",
    "\n",
    "This notebook holds Assignment 2.1 for Module 2 in ADS 509, Applied Text Mining. Work through this notebook, writing code and answering questions where required. \n",
    "\n",
    "In the previous assignment you put together Twitter data and lyrics data on two artists. In this assignment we explore some of the textual features of those data sets. If, for some reason, you did not complete that previous assignment, data to use for this assignment can be found in the assignment materials section of Blackboard. \n",
    "\n",
    "This assignment asks you to write a short function to calculate some descriptive statistics on a piece of text. Then you are asked to find some interesting and unique statistics on your corpora. \n"
   ]
  },
  {
   "cell_type": "markdown",
   "id": "aae8e2e1",
   "metadata": {},
   "source": [
    "## General Assignment Instructions\n",
    "\n",
    "These instructions are included in every assignment, to remind you of the coding standards for the class. Feel free to delete this cell after reading it. \n",
    "\n",
    "One sign of mature code is conforming to a style guide. We recommend the [Google Python Style Guide](https://google.github.io/styleguide/pyguide.html). If you use a different style guide, please include a cell with a link. \n",
    "\n",
    "Your code should be relatively easy-to-read, sensibly commented, and clean. Writing code is a messy process, so please be sure to edit your final submission. Remove any cells that are not needed or parts of cells that contain unnecessary code. Remove inessential `import` statements and make sure that all such statements are moved into the designated cell. \n",
    "\n",
    "Make use of non-code cells for written commentary. These cells should be grammatical and clearly written. In some of these cells you will have questions to answer. The questions will be marked by a \"Q:\" and will have a corresponding \"A:\" spot for you. *Make sure to answer every question marked with a `Q:` for full credit.* \n"
   ]
  },
  {
   "cell_type": "code",
   "execution_count": 22,
   "id": "2bde1726-c1c2-4d71-b29b-d0e1314f2fd7",
   "metadata": {},
   "outputs": [
    {
     "data": {
      "text/plain": [
       "'C:\\\\Users\\\\tysir\\\\Lyrics and Description EDA.ipynb'"
      ]
     },
     "execution_count": 22,
     "metadata": {},
     "output_type": "execute_result"
    }
   ],
   "source": [
    "os.path.abspath(\"Lyrics and Description EDA.ipynb\")"
   ]
  },
  {
   "cell_type": "code",
   "execution_count": 1,
   "id": "e2d096b7",
   "metadata": {},
   "outputs": [],
   "source": [
    "import os\n",
    "import re\n",
    "import emoji\n",
    "import pandas as pd\n",
    "import numpy as np\n",
    "\n",
    "from collections import Counter, defaultdict\n",
    "from nltk.corpus import stopwords\n",
    "from string import punctuation\n",
    "\n",
    "sw = stopwords.words(\"english\")"
   ]
  },
  {
   "cell_type": "code",
   "execution_count": 2,
   "id": "6b555ab2",
   "metadata": {},
   "outputs": [],
   "source": [
    "# Add any additional import statements you need here\n",
    "\n",
    "\n"
   ]
  },
  {
   "cell_type": "code",
   "execution_count": 3,
   "id": "923b5a86",
   "metadata": {},
   "outputs": [],
   "source": [
    "# change `data_location` to the location of the folder on your machine.\n",
    "data_location = \"C:/Users/tysir/Documents/ads-new-lyric/\"\n",
    "\n",
    "# These subfolders should still work if you correctly stored the \n",
    "# data from the Module 1 assignment\n",
    "twitter_folder = \"twitter/\"\n",
    "lyrics_folder = \"lyrics/\""
   ]
  },
  {
   "cell_type": "code",
   "execution_count": 4,
   "id": "06522af9",
   "metadata": {},
   "outputs": [],
   "source": [
    "def descriptive_stats(tokens, num_tokens = 5, verbose=True) :\n",
    "    \"\"\"\n",
    "        Given a list of tokens, print number of tokens, number of unique tokens, \n",
    "        number of characters, lexical diversity (https://en.wikipedia.org/wiki/Lexical_diversity), \n",
    "        and num_tokens most common tokens. Return a list with the number of tokens, number\n",
    "        of unique tokens, lexical diversity, and number of characters. \n",
    "    \n",
    "    \"\"\"\n",
    "\n",
    "    # Fill in the correct values here. \n",
    "    num_tokens = len(tokens)\n",
    "    num_unique_tokens = len(set(tokens))\n",
    "    lexical_diversity = num_unique_tokens / num_tokens if num_tokens > 0 else 0\n",
    "    num_characters = sum(len(token) for token in tokens)\n",
    "    \n",
    "    if verbose :        \n",
    "        print(f\"There are {num_tokens} tokens in the data.\")\n",
    "        print(f\"There are {num_unique_tokens} unique tokens in the data.\")\n",
    "        print(f\"There are {num_characters} characters in the data.\")\n",
    "        print(f\"The lexical diversity is {lexical_diversity:.3f} in the data.\")\n",
    "    \n",
    "        # print the five most common tokens\n",
    "        \n",
    "    return([num_tokens, num_unique_tokens,\n",
    "            lexical_diversity,\n",
    "            num_characters])"
   ]
  },
  {
   "cell_type": "code",
   "execution_count": 5,
   "id": "59dcf058",
   "metadata": {},
   "outputs": [
    {
     "name": "stdout",
     "output_type": "stream",
     "text": [
      "There are 13 tokens in the data.\n",
      "There are 9 unique tokens in the data.\n",
      "There are 55 characters in the data.\n",
      "The lexical diversity is 0.692 in the data.\n"
     ]
    }
   ],
   "source": [
    "text = \"\"\"here is some example text with other example text here in this text\"\"\".split()\n",
    "assert(descriptive_stats(text, verbose=True)[0] == 13)\n",
    "assert(descriptive_stats(text, verbose=False)[1] == 9)\n",
    "assert(abs(descriptive_stats(text, verbose=False)[2] - 0.69) < 0.02)\n",
    "assert(descriptive_stats(text, verbose=False)[3] == 55)"
   ]
  },
  {
   "cell_type": "markdown",
   "id": "d2e7e1a2",
   "metadata": {},
   "source": [
    "Q: Why is it beneficial to use assertion statements in your code? \n",
    "\n",
    "A: Assertion statements are beneficial to help you catch bugs early by making sure your code is doing what you expect while you're writing and testing it."
   ]
  },
  {
   "cell_type": "markdown",
   "id": "9d3bf93e",
   "metadata": {},
   "source": [
    "## Data Input\n",
    "\n",
    "Now read in each of the corpora. For the lyrics data, it may be convenient to store the entire contents of the file to make it easier to inspect the titles individually, as you'll do in the last part of the assignment. In the solution, I stored the lyrics data in a dictionary with two dimensions of keys: artist and song. The value was the file contents. A data frame would work equally well. \n",
    "\n",
    "For the Twitter data, we only need the description field for this assignment. Feel free all the descriptions read it into a data structure. In the solution, I stored the descriptions as a dictionary of lists, with the key being the artist. \n",
    "\n",
    "\n"
   ]
  },
  {
   "cell_type": "code",
   "execution_count": 6,
   "id": "37d70801",
   "metadata": {},
   "outputs": [],
   "source": [
    "# Read in the lyrics data\n",
    "\n",
    "lyrics_data = {}\n",
    "\n",
    "for artist in [\"cher\", \"robyn\"]:\n",
    "    artist_path = os.path.join(data_location, lyrics_folder, artist)\n",
    "    lyrics_data[artist] = {}\n",
    "\n",
    "    for filename in os.listdir(artist_path):\n",
    "        if filename.endswith(\".txt\"):\n",
    "            song_title = filename.replace(\".txt\", \"\")\n",
    "            file_path = os.path.join(artist_path, filename)\n",
    "            with open(file_path, \"r\", encoding=\"utf-8\") as file:\n",
    "                lyrics_data[artist][song_title] = file.read()"
   ]
  },
  {
   "cell_type": "code",
   "execution_count": 7,
   "id": "debcac5a",
   "metadata": {},
   "outputs": [],
   "source": [
    "# Read in the twitter data\n",
    "\n",
    "twitter_data = {}\n",
    "\n",
    "files = {\n",
    "    \"cher\": \"cher_followers_data.txt\",\n",
    "    \"robyn\": \"robynkonichiwa_followers_data.txt\"}\n",
    "\n",
    "for artist, filename in files.items():\n",
    "    path = os.path.join(data_location, twitter_folder, filename)\n",
    "    with open(path, \"r\", encoding=\"utf-8\") as file:\n",
    "        descriptions = file.readlines()\n",
    "        twitter_data[artist] = [desc.strip() for desc in descriptions if desc.strip()]"
   ]
  },
  {
   "cell_type": "markdown",
   "id": "6a5f3b12",
   "metadata": {},
   "source": [
    "## Data Cleaning\n",
    "\n",
    "Now clean and tokenize your data. Remove punctuation chacters (available in the `punctuation` object in the `string` library), split on whitespace, fold to lowercase, and remove stopwords. Store your cleaned data, which must be accessible as an interable for `descriptive_stats`, in new objects or in new columns in your data frame. \n",
    "\n"
   ]
  },
  {
   "cell_type": "code",
   "execution_count": 8,
   "id": "71c73d86",
   "metadata": {},
   "outputs": [],
   "source": [
    "punctuation = set(punctuation) # speeds up comparison"
   ]
  },
  {
   "cell_type": "code",
   "execution_count": 9,
   "id": "b327033a",
   "metadata": {},
   "outputs": [],
   "source": [
    "# create your clean twitter data here\n",
    "\n",
    "clean_twitter_data = {}\n",
    "\n",
    "for artist, descriptions in twitter_data.items():\n",
    "    all_tokens = []\n",
    "    for desc in descriptions:\n",
    "        tokens = desc.lower().split()\n",
    "        tokens = [word.strip(\"\".join(punctuation)) for word in tokens]\n",
    "        tokens = [word for word in tokens if word and word not in sw]\n",
    "        all_tokens.extend(tokens)\n",
    "    clean_twitter_data[artist] = all_tokens"
   ]
  },
  {
   "cell_type": "code",
   "execution_count": 10,
   "id": "e0f22e10",
   "metadata": {},
   "outputs": [],
   "source": [
    "# create your clean lyrics data here\n",
    "\n",
    "clean_lyrics_data = {}\n",
    "\n",
    "for artist, songs in lyrics_data.items():\n",
    "    all_tokens = []\n",
    "    for song, text in songs.items():\n",
    "        tokens = text.lower().split()\n",
    "        tokens = [word.strip(\"\".join(punctuation)) for word in tokens]\n",
    "        tokens = [word for word in tokens if word and word not in sw]\n",
    "        all_tokens.extend(tokens)\n",
    "    clean_lyrics_data[artist] = all_tokens"
   ]
  },
  {
   "cell_type": "markdown",
   "id": "f2dd0179",
   "metadata": {},
   "source": [
    "## Basic Descriptive Statistics\n",
    "\n",
    "Call your `descriptive_stats` function on both your lyrics data and your twitter data and for both artists (four total calls). "
   ]
  },
  {
   "cell_type": "code",
   "execution_count": 11,
   "id": "f0bbedd9",
   "metadata": {},
   "outputs": [
    {
     "name": "stdout",
     "output_type": "stream",
     "text": [
      "Cher - Lyrics\n",
      "There are 33467 tokens in the data.\n",
      "There are 3712 unique tokens in the data.\n",
      "There are 164699 characters in the data.\n",
      "The lexical diversity is 0.111 in the data.\n",
      "\n",
      "Robyn - Lyrics\n",
      "There are 14127 tokens in the data.\n",
      "There are 2141 unique tokens in the data.\n",
      "There are 70442 characters in the data.\n",
      "The lexical diversity is 0.152 in the data.\n",
      "\n",
      "Cher - Twitter\n",
      "There are 42230551 tokens in the data.\n",
      "There are 10793241 unique tokens in the data.\n",
      "There are 268513700 characters in the data.\n",
      "The lexical diversity is 0.256 in the data.\n",
      "\n",
      "Robyn - Twitter\n",
      "There are 3875174 tokens in the data.\n",
      "There are 1147252 unique tokens in the data.\n",
      "There are 24324774 characters in the data.\n",
      "The lexical diversity is 0.296 in the data.\n"
     ]
    },
    {
     "data": {
      "text/plain": [
       "[3875174, 1147252, 0.29605173857999667, 24324774]"
      ]
     },
     "execution_count": 11,
     "metadata": {},
     "output_type": "execute_result"
    }
   ],
   "source": [
    "# calls to descriptive_stats here\n",
    "\n",
    "print(\"Cher - Lyrics\")\n",
    "descriptive_stats(clean_lyrics_data[\"cher\"])\n",
    "\n",
    "print(\"\\nRobyn - Lyrics\")\n",
    "descriptive_stats(clean_lyrics_data[\"robyn\"])\n",
    "\n",
    "print(\"\\nCher - Twitter\")\n",
    "descriptive_stats(clean_twitter_data[\"cher\"])\n",
    "\n",
    "print(\"\\nRobyn - Twitter\")\n",
    "descriptive_stats(clean_twitter_data[\"robyn\"])"
   ]
  },
  {
   "cell_type": "markdown",
   "id": "46294409",
   "metadata": {},
   "source": [
    "Q: How do you think the \"top 5 words\" would be different if we left stopwords in the data? \n",
    "\n",
    "A: I think the top 5 words would be function words or pronouns like \"the\", \"and\", \"but\", \"we\", \"I\", etc. \n",
    "\n",
    "---\n",
    "\n",
    "Q: What were your prior beliefs about the lexical diversity between the artists? Does the difference (or lack thereof) in lexical diversity between the artists conform to your prior beliefs? \n",
    "\n",
    "A: I did not have any expectations going in since I do not know anything about either artist. Robyn's lexical diversity was slightly higher so I can conclude her lyrics have a little more diversity than Cher's. \n"
   ]
  },
  {
   "cell_type": "markdown",
   "id": "4d4e1ac1",
   "metadata": {},
   "source": [
    "\n",
    "## Specialty Statistics\n",
    "\n",
    "The descriptive statistics we have calculated are quite generic. You will now calculate a handful of statistics tailored to these data.\n",
    "\n",
    "1. Ten most common emojis by artist in the twitter descriptions.\n",
    "1. Ten most common hashtags by artist in the twitter descriptions.\n",
    "1. Five most common words in song titles by artist. \n",
    "1. For each artist, a histogram of song lengths (in terms of number of tokens) \n",
    "\n",
    "We can use the `emoji` library to help us identify emojis and you have been given a function to help you.\n"
   ]
  },
  {
   "cell_type": "code",
   "execution_count": 12,
   "id": "753a5a3e",
   "metadata": {},
   "outputs": [],
   "source": [
    "assert(emoji.is_emoji(\"❤️\"))\n",
    "assert(not emoji.is_emoji(\":-)\"))"
   ]
  },
  {
   "cell_type": "markdown",
   "id": "986fc4c0",
   "metadata": {},
   "source": [
    "### Emojis 😁\n",
    "\n",
    "What are the ten most common emojis by artist in the twitter descriptions? \n"
   ]
  },
  {
   "cell_type": "code",
   "execution_count": 13,
   "id": "269cd433",
   "metadata": {},
   "outputs": [
    {
     "name": "stdout",
     "output_type": "stream",
     "text": [
      "\n",
      "Top 10 emojis for cher:\n",
      "❤: 94506\n",
      "🌈: 66291\n",
      "♥: 48059\n",
      "🏳: 47174\n",
      "✨: 45846\n",
      "🌊: 31234\n",
      "💙: 31050\n",
      "🏻: 25195\n",
      "✌: 21963\n",
      "💜: 21571\n",
      "\n",
      "Top 10 emojis for robyn:\n",
      "🌈: 6086\n",
      "❤: 5635\n",
      "🏳: 4641\n",
      "♥: 4249\n",
      "✨: 3217\n",
      "🏻: 1751\n",
      "✌: 1495\n",
      "♀: 1347\n",
      "🏼: 1340\n",
      "💙: 1200\n"
     ]
    }
   ],
   "source": [
    "# Your code here\n",
    "\n",
    "emoji_counts = {}\n",
    "\n",
    "for artist, descriptions in twitter_data.items():\n",
    "    all_emojis = []\n",
    "    for desc in descriptions:\n",
    "        for char in desc:\n",
    "            if emoji.is_emoji(char):\n",
    "                all_emojis.append(char)\n",
    "    emoji_counts[artist] = Counter(all_emojis).most_common(10)\n",
    "\n",
    "for artist, top_emojis in emoji_counts.items():\n",
    "    print(f\"\\nTop 10 emojis for {artist}:\")\n",
    "    for e, count in top_emojis:\n",
    "        print(f\"{e}: {count}\")"
   ]
  },
  {
   "cell_type": "markdown",
   "id": "bab9b770",
   "metadata": {},
   "source": [
    "### Hashtags\n",
    "\n",
    "What are the ten most common hashtags by artist in the twitter descriptions? \n"
   ]
  },
  {
   "cell_type": "code",
   "execution_count": 14,
   "id": "07c396f1",
   "metadata": {},
   "outputs": [
    {
     "name": "stdout",
     "output_type": "stream",
     "text": [
      "\n",
      "Top 10 hashtags for cher:\n",
      "#resist: 9729\n",
      "#blm: 9271\n",
      "#blacklivesmatter: 7770\n",
      "#fbr: 2991\n",
      "#theresistance: 2929\n",
      "#1: 2580\n",
      "#resistance: 2438\n",
      "#: 2205\n",
      "#voteblue: 1939\n",
      "#lgbtq: 1461\n",
      "\n",
      "Top 10 hashtags for robyn:\n",
      "#blacklivesmatter: 601\n",
      "#blm: 365\n",
      "#music: 262\n",
      "#1: 213\n",
      "#: 175\n",
      "#teamfollowback: 118\n",
      "#edm: 104\n",
      "#resist: 77\n",
      "#freebritney: 70\n",
      "#blacktranslivesmatter: 58\n"
     ]
    }
   ],
   "source": [
    "# Your code here\n",
    "\n",
    "hashtag_counts = {}\n",
    "\n",
    "for artist, descriptions in twitter_data.items():\n",
    "    all_hashtags = []\n",
    "    for desc in descriptions:\n",
    "        tokens = desc.lower().split()\n",
    "        hashtags = [word for word in tokens if word.startswith(\"#\")]\n",
    "        all_hashtags.extend(hashtags)\n",
    "    hashtag_counts[artist] = Counter(all_hashtags).most_common(10)\n",
    "\n",
    "for artist, top_tags in hashtag_counts.items():\n",
    "    print(f\"\\nTop 10 hashtags for {artist}:\")\n",
    "    for tag, count in top_tags:\n",
    "        print(f\"{tag}: {count}\")"
   ]
  },
  {
   "cell_type": "markdown",
   "id": "d10f21d5",
   "metadata": {},
   "source": [
    "### Song Titles\n",
    "\n",
    "What are the five most common words in song titles by artist? The song titles should be on the first line of the lyrics pages, so if you have kept the raw file contents around, you will not need to re-read the data.\n"
   ]
  },
  {
   "cell_type": "code",
   "execution_count": 15,
   "id": "bb69b36b",
   "metadata": {},
   "outputs": [
    {
     "name": "stdout",
     "output_type": "stream",
     "text": [
      "\n",
      "Top 5 title words for cher:\n",
      "love: 38\n",
      "man: 12\n",
      "song: 11\n",
      "come: 7\n",
      "one: 7\n",
      "\n",
      "Top 5 title words for robyn:\n",
      "love: 6\n",
      "u: 4\n",
      "thing: 3\n",
      "girl: 3\n",
      "tell: 3\n"
     ]
    }
   ],
   "source": [
    "# Your code here\n",
    "\n",
    "title_word_counts = {}\n",
    "\n",
    "for artist, songs in lyrics_data.items():\n",
    "    all_words = []\n",
    "    for song, lyrics in songs.items():\n",
    "        first_line = lyrics.split(\"\\n\")[0].lower().split()\n",
    "        words = [word.strip(\"\".join(punctuation)) for word in first_line]\n",
    "        words = [word for word in words if word and word not in sw]\n",
    "        all_words.extend(words)\n",
    "    title_word_counts[artist] = Counter(all_words).most_common(5)\n",
    "\n",
    "for artist, top_words in title_word_counts.items():\n",
    "    print(f\"\\nTop 5 title words for {artist}:\")\n",
    "    for word, count in top_words:\n",
    "        print(f\"{word}: {count}\")"
   ]
  },
  {
   "cell_type": "markdown",
   "id": "5dd4fd71",
   "metadata": {},
   "source": [
    "### Song Lengths\n",
    "\n",
    "For each artist, a histogram of song lengths (in terms of number of tokens). If you put the song lengths in a data frame with an artist column, matplotlib will make the plotting quite easy. An example is given to help you out. \n"
   ]
  },
  {
   "cell_type": "code",
   "execution_count": 16,
   "id": "805a1e52",
   "metadata": {},
   "outputs": [],
   "source": [
    "# num_replicates = 1000\n",
    "\n",
    "# df = pd.DataFrame({\n",
    "#     \"artist\" : ['Artist 1'] * num_replicates + ['Artist 2']*num_replicates,\n",
    "#     \"length\" : np.concatenate((np.random.poisson(125,num_replicates),np.random.poisson(150,num_replicates)))})\n",
    "\n",
    "# df.groupby('artist')['length'].plot(kind=\"hist\",density=True,alpha=0.5,legend=True)"
   ]
  },
  {
   "cell_type": "markdown",
   "id": "8fde9ebb",
   "metadata": {},
   "source": [
    "Since the lyrics may be stored with carriage returns or tabs, it may be useful to have a function that can collapse whitespace, using regular expressions, and be used for splitting. \n",
    "\n",
    "Q: What does the regular expression `'\\s+'` match on? \n",
    "\n",
    "A: It matches on whitespace characters like spaces and tabs.\n"
   ]
  },
  {
   "cell_type": "code",
   "execution_count": 17,
   "id": "f0e34516",
   "metadata": {},
   "outputs": [],
   "source": [
    "collapse_whitespace = re.compile(r'\\s+')\n",
    "\n",
    "def tokenize_lyrics(lyric) : \n",
    "    \"\"\"strip and split on whitespace\"\"\"\n",
    "    return([item.lower() for item in collapse_whitespace.split(lyric)])"
   ]
  },
  {
   "cell_type": "code",
   "execution_count": 18,
   "id": "2294c440",
   "metadata": {},
   "outputs": [],
   "source": [
    "# Your lyric length comparison chart here. \n",
    "\n",
    "song_lengths = []\n",
    "\n",
    "for artist, songs in lyrics_data.items():\n",
    "    for song, lyrics in songs.items():\n",
    "        tokens = tokenize_lyrics(lyrics)\n",
    "        song_lengths.append({\n",
    "            \"artist\": artist,\n",
    "            \"length\": len(tokens)})\n",
    "\n",
    "df = pd.DataFrame(song_lengths)"
   ]
  },
  {
   "cell_type": "code",
   "execution_count": 19,
   "id": "7d6070ab-d13f-4510-8c9b-84a0f1646701",
   "metadata": {},
   "outputs": [
    {
     "data": {
      "text/plain": [
       "artist\n",
       "cher     Axes(0.125,0.11;0.775x0.77)\n",
       "robyn    Axes(0.125,0.11;0.775x0.77)\n",
       "Name: length, dtype: object"
      ]
     },
     "execution_count": 19,
     "metadata": {},
     "output_type": "execute_result"
    },
    {
     "data": {
      "image/png": "[encoded data removed]",
      "text/plain": [
       "<Figure size 640x480 with 1 Axes>"
      ]
     },
     "metadata": {},
     "output_type": "display_data"
    }
   ],
   "source": [
    "df.groupby('artist')['length'].plot(\n",
    "    kind=\"hist\", \n",
    "    density=True, \n",
    "    alpha=0.5, \n",
    "    legend=True, \n",
    "    title=\"Histogram of Song Lengths by Artist\")"
   ]
  },
  {
   "cell_type": "code",
   "execution_count": null,
   "id": "e1827a90-ecd4-4146-9106-ad696dcb51d5",
   "metadata": {},
   "outputs": [],
   "source": []
  }
 ],
 "metadata": {
  "kernelspec": {
   "display_name": "Python 3 (ipykernel)",
   "language": "python",
   "name": "python3"
  },
  "language_info": {
   "codemirror_mode": {
    "name": "ipython",
    "version": 3
   },
   "file_extension": ".py",
   "mimetype": "text/x-python",
   "name": "python",
   "nbconvert_exporter": "python",
   "pygments_lexer": "ipython3",
   "version": "3.11.3"
  }
 },
 "nbformat": 4,
 "nbformat_minor": 5
}
